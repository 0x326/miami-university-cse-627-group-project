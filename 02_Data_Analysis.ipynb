{
 "cells": [
  {
   "cell_type": "markdown",
   "id": "127b25e6-077b-4b89-929f-74cafb51aad0",
   "metadata": {},
   "source": [
    "# Data Investigation"
   ]
  },
  {
   "cell_type": "code",
   "execution_count": null,
   "id": "69d7ab55-745e-4712-9f02-adca5dd2eb98",
   "metadata": {},
   "outputs": [],
   "source": [
    "options(jupyter.plot_mimetypes = \"image/svg+xml\")\n",
    "library(tidyverse)"
   ]
  },
  {
   "cell_type": "code",
   "execution_count": null,
   "id": "7dc463a7-4354-4a65-b29e-b4d692b79c59",
   "metadata": {},
   "outputs": [],
   "source": [
    "round_by <- function(x, divisor) {\n",
    "    round(x / divisor) * divisor\n",
    "}"
   ]
  },
  {
   "cell_type": "code",
   "execution_count": null,
   "id": "c0dc9b47-6a21-41a4-b311-78e5fe7789a5",
   "metadata": {},
   "outputs": [],
   "source": [
    "training_data <- read_csv('train_processed.csv')"
   ]
  },
  {
   "cell_type": "code",
   "execution_count": null,
   "id": "9b15c8c8-a424-4c1a-b0e4-7144f2d15172",
   "metadata": {},
   "outputs": [],
   "source": [
    "training_data"
   ]
  },
  {
   "cell_type": "code",
   "execution_count": null,
   "id": "af24a34e-56b2-422f-b505-5bf44dd5c3f5",
   "metadata": {},
   "outputs": [],
   "source": [
    "training_data %>%\n",
    "    group_by(Sex) %>%\n",
    "    summarize(Total_Survived = sum(Survived))"
   ]
  },
  {
   "cell_type": "code",
   "execution_count": null,
   "id": "f5fb732e-2428-4cc8-b211-0339bbe15c52",
   "metadata": {},
   "outputs": [],
   "source": [
    "training_data %>%\n",
    "    mutate(Age = round_by(Age, 5)) %>%\n",
    "    group_by(Age, Sex) %>%\n",
    "    summarize(Total_Survived = sum(Survived)) %>%\n",
    "    ggplot(aes(x = Age, y = Total_Survived, fill = Sex)) +\n",
    "    geom_col()"
   ]
  },
  {
   "cell_type": "code",
   "execution_count": null,
   "id": "09879982-6b45-4e33-83b0-fbfc464a5652",
   "metadata": {},
   "outputs": [],
   "source": [
    "training_data %>%\n",
    "    mutate(Age = round_by(Age, 5)) %>%\n",
    "    ggplot(aes(x = Sex, y = Age)) +\n",
    "    geom_violin()"
   ]
  },
  {
   "cell_type": "code",
   "execution_count": null,
   "id": "1d214d45-acf2-4c2d-98f6-eed3bedbf0fd",
   "metadata": {},
   "outputs": [],
   "source": [
    "training_data %>%\n",
    "    ggplot(aes(x = Family_Size, y = Pclass)) +\n",
    "    geom_jitter()"
   ]
  },
  {
   "cell_type": "code",
   "execution_count": null,
   "id": "8eefdb85-072c-498a-954b-41f3d3efc344",
   "metadata": {},
   "outputs": [],
   "source": []
  }
 ],
 "metadata": {
  "kernelspec": {
   "display_name": "R",
   "language": "R",
   "name": "ir"
  },
  "language_info": {
   "codemirror_mode": "r",
   "file_extension": ".r",
   "mimetype": "text/x-r-source",
   "name": "R",
   "pygments_lexer": "r",
   "version": "4.0.3"
  }
 },
 "nbformat": 4,
 "nbformat_minor": 5
}
