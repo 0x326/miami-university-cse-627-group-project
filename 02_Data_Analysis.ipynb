{
 "cells": [
  {
   "cell_type": "markdown",
   "id": "2cbd97fe",
   "metadata": {},
   "source": [
    "# Data Investigation"
   ]
  },
  {
   "cell_type": "code",
   "execution_count": null,
   "id": "1767875e",
   "metadata": {},
   "outputs": [],
   "source": [
    "options(jupyter.plot_mimetypes = \"image/svg+xml\")\n",
    "library(tidyverse)"
   ]
  },
  {
   "cell_type": "code",
   "execution_count": null,
   "id": "169ff0dd",
   "metadata": {},
   "outputs": [],
   "source": [
    "round_by <- function(x, divisor) {\n",
    "    round(x / divisor) * divisor\n",
    "}"
   ]
  },
  {
   "cell_type": "code",
   "execution_count": null,
   "id": "db557c3a",
   "metadata": {},
   "outputs": [],
   "source": [
    "training_data <- read_csv('train_processed.csv')"
   ]
  },
  {
   "cell_type": "code",
   "execution_count": null,
   "id": "4ee76119",
   "metadata": {},
   "outputs": [],
   "source": [
    "training_data"
   ]
  },
  {
   "cell_type": "code",
   "execution_count": null,
   "id": "65219ff0",
   "metadata": {},
   "outputs": [],
   "source": [
    "training_data %>%\n",
    "    group_by(Sex) %>%\n",
    "    summarize(TotalSurvived = sum(Survived))"
   ]
  },
  {
   "cell_type": "code",
   "execution_count": null,
   "id": "a8cf2647",
   "metadata": {},
   "outputs": [],
   "source": [
    "training_data %>%\n",
    "    mutate(Age = round_by(Age, 5)) %>%\n",
    "    group_by(Age, Sex) %>%\n",
    "    summarize(TotalSurvived = sum(Survived)) %>%\n",
    "    ggplot(aes(x = Age, y = TotalSurvived, fill = Sex)) +\n",
    "    geom_col()"
   ]
  },
  {
   "cell_type": "code",
   "execution_count": null,
   "id": "51851d14",
   "metadata": {},
   "outputs": [],
   "source": [
    "training_data %>%\n",
    "    mutate(Age = round_by(Age, 5)) %>%\n",
    "    ggplot(aes(x = Sex, y = Age)) +\n",
    "    geom_violin()"
   ]
  },
  {
   "cell_type": "code",
   "execution_count": null,
   "id": "37046e23",
   "metadata": {},
   "outputs": [],
   "source": [
    "training_data %>%\n",
    "    ggplot(aes(x = FamilySize, y = Pclass)) +\n",
    "    geom_jitter()"
   ]
  },
  {
   "cell_type": "code",
   "execution_count": null,
   "id": "9edea248",
   "metadata": {},
   "outputs": [],
   "source": []
  }
 ],
 "metadata": {
  "kernelspec": {
   "display_name": "R",
   "language": "R",
   "name": "ir"
  },
  "language_info": {
   "codemirror_mode": "r",
   "file_extension": ".r",
   "mimetype": "text/x-r-source",
   "name": "R",
   "pygments_lexer": "r",
   "version": "4.0.3"
  }
 },
 "nbformat": 4,
 "nbformat_minor": 5
}
