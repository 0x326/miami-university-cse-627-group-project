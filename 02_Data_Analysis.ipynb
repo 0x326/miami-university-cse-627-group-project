{
 "cells": [
  {
   "cell_type": "markdown",
   "id": "e1a9d967",
   "metadata": {},
   "source": [
    "# Data Investigation"
   ]
  },
  {
   "cell_type": "markdown",
   "id": "f9e93e54-bfb0-4de5-aed3-89373666c639",
   "metadata": {
    "tags": []
   },
   "source": [
    "## Configuration"
   ]
  },
  {
   "cell_type": "code",
   "execution_count": null,
   "id": "8d7202fc",
   "metadata": {},
   "outputs": [],
   "source": [
    "options(jupyter.plot_mimetypes = \"image/svg+xml\")\n",
    "library(tidyverse)"
   ]
  },
  {
   "cell_type": "code",
   "execution_count": null,
   "id": "57ebe9c7",
   "metadata": {},
   "outputs": [],
   "source": [
    "round_by <- function(x, divisor) {\n",
    "    round(x / divisor) * divisor\n",
    "}"
   ]
  },
  {
   "cell_type": "markdown",
   "id": "f3befe1c-95f5-4de7-96a6-385d248c2242",
   "metadata": {},
   "source": [
    "## Data Import"
   ]
  },
  {
   "cell_type": "code",
   "execution_count": null,
   "id": "82f9e69c",
   "metadata": {},
   "outputs": [],
   "source": [
    "training_data <- read_csv('train_processed.csv')"
   ]
  },
  {
   "cell_type": "code",
   "execution_count": null,
   "id": "4d5f97fe-81ef-47a4-844f-fbd096366f3a",
   "metadata": {},
   "outputs": [],
   "source": [
    "total_passengers <- training_data %>%\n",
    "    summarize(TotalPassengers = n()) %>%\n",
    "    first()\n",
    "total_passengers"
   ]
  },
  {
   "cell_type": "code",
   "execution_count": null,
   "id": "21c6d997",
   "metadata": {},
   "outputs": [],
   "source": [
    "training_data"
   ]
  },
  {
   "cell_type": "markdown",
   "id": "3e11fe50-28fb-4e07-b113-644ca81ad685",
   "metadata": {},
   "source": [
    "## Exploratory plots"
   ]
  },
  {
   "cell_type": "markdown",
   "id": "b13b02de-a09d-41c9-b5b4-2176633e8746",
   "metadata": {},
   "source": [
    "Is class an important factor to the survival rate?"
   ]
  },
  {
   "cell_type": "code",
   "execution_count": null,
   "id": "eb0b14d2-bd08-43cf-a015-c2dc5eeb9e39",
   "metadata": {},
   "outputs": [],
   "source": [
    "# training_data %>%\n",
    "#     group_by(Pclass, Sex) %>%\n",
    "#     summarize(TotalSurvived = sum(Survived)) %>%\n",
    "#     ggplot(aes(x = Pclass, y = TotalSurvived, fill = Sex)) +\n",
    "#     geom_col()\n",
    "\n",
    "training_data %>%    \n",
    "    group_by(Pclass, Sex) %>%\n",
    "    summarize(TotalSurvived = sum(Survived)) %>%\n",
    "    left_join(\n",
    "        training_data %>%    \n",
    "            group_by(Pclass) %>%\n",
    "            count() %>%\n",
    "            rename(TotalPassengersByPclass = n),\n",
    "        by = \"Pclass\"\n",
    "    ) %>%\n",
    "    ggplot(aes(x = Pclass, y = TotalSurvived / TotalPassengersByPclass, fill = Sex)) +\n",
    "    geom_col() +\n",
    "    coord_cartesian(ylim = c(0, 1)) +\n",
    "    labs(\n",
    "        title = \"Sex and Passenger class are factors to survival\",\n",
    "        subtitle = \"Females and first class passengers are more likely to survive\",\n",
    "        x = \"Passenger class\",\n",
    "        y = \"Survivor percentage\",\n",
    "        caption = \"Surviror percentage is grouped by passenger class\"\n",
    "    )"
   ]
  },
  {
   "cell_type": "markdown",
   "id": "00a39a04-6605-43ea-bca8-7310def91789",
   "metadata": {},
   "source": [
    "Is sex an important factor to the survival rate?"
   ]
  },
  {
   "cell_type": "code",
   "execution_count": null,
   "id": "38e1092b",
   "metadata": {},
   "outputs": [],
   "source": [
    "training_data %>%\n",
    "    group_by(Sex, Pclass) %>%\n",
    "    summarize(TotalSurvived = sum(Survived)) %>%\n",
    "    left_join(\n",
    "        training_data %>%    \n",
    "            group_by(Sex) %>%\n",
    "            count() %>%\n",
    "            rename(TotalPassengersBySex = n),\n",
    "        by = \"Sex\"\n",
    "    ) %>%\n",
    "    ggplot(aes(x = Sex, y = TotalSurvived / TotalPassengersBySex, fill = Pclass)) +\n",
    "    geom_col() +\n",
    "    coord_cartesian(ylim = c(0, 1)) +\n",
    "    labs(\n",
    "        title = \"Sex is a factor to survival\",\n",
    "        subtitle = \"Females are likely to survive regardless of class\",\n",
    "        x = \"Sex\",\n",
    "        y = \"Survivor percentage\",\n",
    "        fill = \"Passenger class\",\n",
    "        caption = \"Surviror percentage is grouped by sex\"\n",
    "    )"
   ]
  },
  {
   "cell_type": "code",
   "execution_count": null,
   "id": "4a586b04-f26c-4cdc-ad07-faa9f75c0481",
   "metadata": {},
   "outputs": [],
   "source": [
    "training_data %>%\n",
    "    mutate(Age = round_by(Age, 10)) %>%\n",
    "    group_by(Sex, Age) %>%\n",
    "    summarize(TotalSurvived = sum(Survived)) %>%\n",
    "    left_join(\n",
    "        training_data %>%\n",
    "            group_by(Sex) %>%\n",
    "            count() %>%\n",
    "            rename(TotalPassengersBySex = n),\n",
    "        by = \"Sex\"\n",
    "    ) %>%\n",
    "    ggplot(aes(x = Sex, y = TotalSurvived / TotalPassengersBySex, fill = Age)) +\n",
    "    geom_col() +\n",
    "    coord_cartesian(ylim = c(0, 1)) +\n",
    "    labs(\n",
    "        title = \"Sex and age are factors to survival\",\n",
    "        x = \"Sex\",\n",
    "        y = \"Survivor percentage\",\n",
    "        caption = \"Surviror percentage is grouped by sex\"\n",
    "    )"
   ]
  },
  {
   "cell_type": "markdown",
   "id": "8acfd66b-4f8e-4273-aac1-22665a6aae9a",
   "metadata": {},
   "source": [
    "Is age an important factor to the survival rate?"
   ]
  },
  {
   "cell_type": "code",
   "execution_count": null,
   "id": "253f009e",
   "metadata": {},
   "outputs": [],
   "source": [
    "training_data %>%\n",
    "    mutate(Age = round_by(Age, 5)) %>%\n",
    "    group_by(Age, Sex) %>%\n",
    "    summarize(TotalSurvived = sum(Survived)) %>%\n",
    "    left_join(\n",
    "        training_data %>%\n",
    "            mutate(Age = round_by(Age, 5)) %>%\n",
    "            group_by(Age) %>%\n",
    "            count() %>%\n",
    "            rename(TotalPassengersByAge = n),\n",
    "        by = \"Age\"\n",
    "    ) %>%\n",
    "    ggplot(aes(x = Age, y = TotalSurvived / TotalPassengersByAge, fill = Sex)) +\n",
    "    geom_col() +\n",
    "    coord_cartesian(ylim = c(0, 1)) +\n",
    "    labs(\n",
    "        title = \"Age is a factor to survival\",\n",
    "        x = \"Age\",\n",
    "        y = \"Survivor percentage\",\n",
    "        fill = \"Passenger class\",\n",
    "        caption = \"Surviror percentage is grouped by age\"\n",
    "    )"
   ]
  },
  {
   "cell_type": "code",
   "execution_count": null,
   "id": "44a60160-0668-45e9-8aff-90bca00933ab",
   "metadata": {},
   "outputs": [],
   "source": [
    "Is the starting point"
   ]
  },
  {
   "cell_type": "code",
   "execution_count": null,
   "id": "d16be83b",
   "metadata": {},
   "outputs": [],
   "source": [
    "training_data %>%\n",
    "    group_by(Embarked, FamilySize) %>%\n",
    "    summarize(TotalSurvived = sum(Survived)) %>%\n",
    "    left_join(\n",
    "        training_data %>%\n",
    "            group_by(Embarked) %>%\n",
    "            count() %>%\n",
    "            rename(TotalPassengersByEmbarked = n),\n",
    "        by = \"Embarked\"\n",
    "    ) %>%\n",
    "    ggplot(aes(x = Embarked, y = TotalSurvived / TotalPassengersByEmbarked, fill = FamilySize)) +\n",
    "    geom_col() +\n",
    "    coord_cartesian(ylim = c(0, 1)) +\n",
    "    labs(\n",
    "        title = \"Embarked location is a factor to survival\",\n",
    "        subtitle = \"Those from C are more likely to survive than those from Q and S\",\n",
    "        x = \"Embarked location\",\n",
    "        y = \"Survivor percentage\",\n",
    "        fill = \"Family size\",\n",
    "        caption = \"Surviror percentage is grouped by embarked location\"\n",
    "    )"
   ]
  },
  {
   "cell_type": "code",
   "execution_count": null,
   "id": "d6fc40af-573b-4ae6-b5e2-1cfe68348f71",
   "metadata": {},
   "outputs": [],
   "source": [
    "training_data %>%\n",
    "    group_by(NameTitle) %>%\n",
    "    summarize(TotalSurvived = sum(Survived)) %>%\n",
    "    left_join(\n",
    "        training_data %>%\n",
    "            group_by(NameTitle) %>%\n",
    "            count() %>%\n",
    "            rename(TotalPassengersByNameTitle = n),\n",
    "        by = \"NameTitle\"\n",
    "    ) %>%\n",
    "    ggplot(aes(x = NameTitle, y = TotalSurvived / TotalPassengersByNameTitle)) +\n",
    "    geom_col() +\n",
    "    coord_cartesian(ylim = c(0, 1)) +\n",
    "    labs(\n",
    "        x = \"Passenger's title (Mr., Mrs., etc.)\",\n",
    "        y = \"Survivor percentage\",\n",
    "        caption = \"Surviror percentage is grouped by title\"\n",
    "    )"
   ]
  },
  {
   "cell_type": "code",
   "execution_count": null,
   "id": "b4e27189-9af7-427e-9898-4af0ca85bcae",
   "metadata": {},
   "outputs": [],
   "source": [
    "training_data %>%\n",
    "    group_by(Deck, Pclass) %>%\n",
    "    summarize(TotalSurvived = sum(Survived)) %>%\n",
    "    left_join(\n",
    "        training_data %>%\n",
    "            group_by(Deck) %>%\n",
    "            count() %>%\n",
    "            rename(TotalPassengersByDeck = n),\n",
    "        by = \"Deck\"\n",
    "    ) %>%\n",
    "    ggplot(aes(x = Deck, y = TotalSurvived / TotalPassengersByDeck, fill = Pclass)) +\n",
    "    geom_col() +\n",
    "    coord_cartesian(ylim = c(0, 1)) +\n",
    "    labs(\n",
    "        title = \"Deck has marginal impact on survival\",\n",
    "        subtitle = \"Most survival rates are near 75%, irrespective of deck\",\n",
    "        x = \"Deck\",\n",
    "        y = \"Survivor percentage\",\n",
    "        fill = \"Passenger class\",\n",
    "        caption = \"Surviror percentage is grouped by deck\"\n",
    "    )"
   ]
  },
  {
   "cell_type": "code",
   "execution_count": null,
   "id": "74be7618-ea22-404f-aa35-79fdc1b46789",
   "metadata": {},
   "outputs": [],
   "source": [
    "training_data %>%\n",
    "    mutate(FarePerPerson = round_by(FarePerPerson, 20)) %>%\n",
    "    group_by(FarePerPerson, Pclass) %>%\n",
    "    summarize(TotalSurvived = sum(Survived)) %>%\n",
    "    left_join(\n",
    "        training_data %>%\n",
    "            mutate(FarePerPerson = round_by(FarePerPerson, 20)) %>%\n",
    "            group_by(FarePerPerson) %>%\n",
    "            count() %>%\n",
    "            rename(TotalPassengersByFarePerPerson = n),\n",
    "        by = \"FarePerPerson\"\n",
    "    ) %>%\n",
    "    ggplot(aes(x = FarePerPerson, y = TotalSurvived / TotalPassengersByFarePerPerson, fill = Pclass)) +\n",
    "    geom_col() +\n",
    "    coord_cartesian(ylim = c(0, 1)) +\n",
    "    labs(\n",
    "        x = \"Fare per family member\",\n",
    "        y = \"Survivor percentage\",\n",
    "        fill = \"Passenger class\",\n",
    "        caption = \"Surviror percentage is grouped by fare per family member\"\n",
    "    )"
   ]
  },
  {
   "cell_type": "code",
   "execution_count": null,
   "id": "259121aa",
   "metadata": {},
   "outputs": [],
   "source": [
    "training_data %>%\n",
    "    mutate(Age = round_by(Age, 5)) %>%\n",
    "    ggplot(aes(x = Sex, y = Age)) +\n",
    "    geom_violin()"
   ]
  },
  {
   "cell_type": "code",
   "execution_count": null,
   "id": "6e46d27e",
   "metadata": {},
   "outputs": [],
   "source": [
    "training_data %>%\n",
    "    ggplot(aes(x = FamilySize, y = Pclass)) +\n",
    "    geom_jitter()"
   ]
  },
  {
   "cell_type": "code",
   "execution_count": null,
   "id": "781a0fe0",
   "metadata": {},
   "outputs": [],
   "source": [
    "training_data %>%\n",
    "    group_by(Pclass) %>%\n",
    "    summarize(min = min(Fare), lower_quartile = quantile(Fare, 0.25), median = median(Fare), upper_quartile = quantile(Fare, 0.75), max = max(Fare))"
   ]
  },
  {
   "cell_type": "code",
   "execution_count": null,
   "id": "ebf6fa01-db3a-42b6-b64e-b9881115c4b4",
   "metadata": {},
   "outputs": [],
   "source": []
  }
 ],
 "metadata": {
  "kernelspec": {
   "display_name": "R",
   "language": "R",
   "name": "ir"
  },
  "language_info": {
   "codemirror_mode": "r",
   "file_extension": ".r",
   "mimetype": "text/x-r-source",
   "name": "R",
   "pygments_lexer": "r",
   "version": "4.0.3"
  }
 },
 "nbformat": 4,
 "nbformat_minor": 5
}
