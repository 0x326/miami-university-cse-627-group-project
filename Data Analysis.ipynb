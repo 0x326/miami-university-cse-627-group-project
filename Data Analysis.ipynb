{
 "cells": [
  {
   "cell_type": "markdown",
   "id": "127b25e6-077b-4b89-929f-74cafb51aad0",
   "metadata": {},
   "source": [
    "# Data Investigation"
   ]
  },
  {
   "cell_type": "code",
   "execution_count": null,
   "id": "69d7ab55-745e-4712-9f02-adca5dd2eb98",
   "metadata": {},
   "outputs": [],
   "source": [
    "library(tidyverse)"
   ]
  },
  {
   "cell_type": "code",
   "execution_count": null,
   "id": "c0dc9b47-6a21-41a4-b311-78e5fe7789a5",
   "metadata": {},
   "outputs": [],
   "source": [
    "training_data <- read_csv('train.csv')"
   ]
  },
  {
   "cell_type": "code",
   "execution_count": null,
   "id": "9b15c8c8-a424-4c1a-b0e4-7144f2d15172",
   "metadata": {},
   "outputs": [],
   "source": [
    "training_data"
   ]
  },
  {
   "cell_type": "code",
   "execution_count": null,
   "id": "af24a34e-56b2-422f-b505-5bf44dd5c3f5",
   "metadata": {},
   "outputs": [],
   "source": [
    "training_data %>%\n",
    "    group_by(Sex) %>%\n",
    "    summarize(Total_Survived = sum(Survived))"
   ]
  },
  {
   "cell_type": "code",
   "execution_count": null,
   "id": "f5fb732e-2428-4cc8-b211-0339bbe15c52",
   "metadata": {},
   "outputs": [],
   "source": [
    "training_data %>%\n",
    "    group_by(Age) %>%\n",
    "    summarize(Total_Survived = sum(Survived)) %>%\n",
    "    ggplot(aes(x = Age, y = Total_Survived)) +\n",
    "    geom_col()"
   ]
  },
  {
   "cell_type": "code",
   "execution_count": null,
   "id": "8e80417c-27da-4431-9b6e-b7ebdd70003f",
   "metadata": {},
   "outputs": [],
   "source": []
  }
 ],
 "metadata": {
  "kernelspec": {
   "display_name": "R",
   "language": "R",
   "name": "ir"
  },
  "language_info": {
   "codemirror_mode": "r",
   "file_extension": ".r",
   "mimetype": "text/x-r-source",
   "name": "R",
   "pygments_lexer": "r",
   "version": "4.0.3"
  }
 },
 "nbformat": 4,
 "nbformat_minor": 5
}
