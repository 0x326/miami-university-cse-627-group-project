{
 "cells": [
  {
   "cell_type": "markdown",
   "id": "6b40c645",
   "metadata": {},
   "source": [
    "# CSE 627 Group Project\n",
    "\n",
    "- By John Meyer & Jacob Hubbard"
   ]
  },
  {
   "cell_type": "markdown",
   "id": "6af47efb-0d7d-4f44-bb1a-9b12fcd10069",
   "metadata": {},
   "source": [
    "Since we are relatively new to Python data science, we decided to utilize data science tools that we already knew to minimize the learning curve required for this project.\n",
    "We use Python code blocks import, extract features, visualize data, and fit machine learning models while we use R for data visualization and exploration.\n",
    "Since Python and R do not work together well in the same notebook, this submission is a series of Jupyter notebooks (with different Python and R kernels).\n",
    "\n",
    "This is a Python notebook."
   ]
  },
  {
   "cell_type": "markdown",
   "id": "44a9c0d0-bc0e-4b69-b4f7-89020feca170",
   "metadata": {},
   "source": [
    "## Titanic Dataset"
   ]
  },
  {
   "cell_type": "markdown",
   "id": "908d6af8-d72f-4479-8389-2ab5333d9364",
   "metadata": {},
   "source": [
    "To download the dataset and for an explanation of each column name, go to <https://www.kaggle.com/c/titanic>"
   ]
  },
  {
   "cell_type": "markdown",
   "id": "67b8f84b",
   "metadata": {},
   "source": [
    "## Configuration"
   ]
  },
  {
   "cell_type": "code",
   "execution_count": null,
   "id": "bff3a84d",
   "metadata": {},
   "outputs": [],
   "source": [
    "# Jupyter config\n",
    "%matplotlib inline\n",
    "%config InlineBackend.figure_format = 'svg'  # Or 'retina'"
   ]
  },
  {
   "cell_type": "code",
   "execution_count": null,
   "id": "6fdf1e45",
   "metadata": {},
   "outputs": [],
   "source": [
    "# Python imports\n",
    "import numpy as np\n",
    "import pandas as pd\n",
    "import matplotlib.pyplot as plt\n",
    "from scipy.stats import *\n",
    "from sklearn.mixture import *\n",
    "\n",
    "#plt.style.use('seaborn-whitegrid')  # Set the aesthetic style of the plots"
   ]
  },
  {
   "cell_type": "markdown",
   "id": "3ccca7a7",
   "metadata": {},
   "source": [
    "## Data Import & Feature Extraction"
   ]
  },
  {
   "cell_type": "code",
   "execution_count": null,
   "id": "c54bbae6",
   "metadata": {},
   "outputs": [],
   "source": [
    "training_data = pd.read_csv('train.csv')\n",
    "test_data = pd.read_csv('test.csv')"
   ]
  },
  {
   "cell_type": "markdown",
   "id": "7195939a",
   "metadata": {},
   "source": [
    "In what follows, we extract features from existing columns in the dataset using ideas found in <https://triangleinequality.wordpress.com/2013/09/08/basic-feature-engineering-with-the-titanic-data/>.\n",
    "The following regex is of our own authorship."
   ]
  },
  {
   "cell_type": "code",
   "execution_count": null,
   "id": "26908e13",
   "metadata": {},
   "outputs": [],
   "source": [
    "name_regex = r\"\"\"^(?P<LastName>[A-Za-z '-]+?), ((the )?(?P<Title>\\w+)( of)?\\.)?( (?P<FirstName>[A-Za-z'-]+?|[A-Za-z'-]+?\\/[A-Za-z'-]+?))?( (?P<MiddleNames>[A-Za-z- ]+?))?( \".+| \\(.+)?$\"\"\"\n",
    "\n",
    "parsed_names = training_data['Name'].str.extract(name_regex)\n",
    "training_data = training_data.assign(\n",
    "    NameTitle = parsed_names['Title'],\n",
    "    FirstName = parsed_names['FirstName'],\n",
    "    MiddleNames = parsed_names['MiddleNames'],\n",
    "    LastName = parsed_names['LastName'],\n",
    ")\n",
    "del training_data['Name']\n",
    "\n",
    "parsed_names = test_data['Name'].str.extract(name_regex)\n",
    "test_data = test_data.assign(\n",
    "    NameTitle = parsed_names['Title'],\n",
    "    FirstName = parsed_names['FirstName'],\n",
    "    MiddleNames = parsed_names['MiddleNames'],\n",
    "    LastName = parsed_names['LastName'],\n",
    ")\n",
    "del test_data['Name']"
   ]
  },
  {
   "cell_type": "code",
   "execution_count": null,
   "id": "0269439f",
   "metadata": {},
   "outputs": [],
   "source": [
    "deck_regex = r\"\"\"^(?P<Deck>[A-Z])(?P<CabinNumber>\\d+)\"\"\"\n",
    "\n",
    "parsed_decks = training_data['Cabin'].str.extract(deck_regex)\n",
    "training_data = training_data.assign(\n",
    "    Deck = parsed_decks['Deck'],\n",
    "    CabinNumber = parsed_decks['CabinNumber'],\n",
    ")\n",
    "del training_data['Cabin']\n",
    "\n",
    "parsed_decks = test_data['Cabin'].str.extract(deck_regex)\n",
    "test_data = test_data.assign(\n",
    "    Deck = parsed_decks['Deck'],\n",
    "    CabinNumber = parsed_decks['CabinNumber'],\n",
    ")\n",
    "del test_data['Cabin']"
   ]
  },
  {
   "cell_type": "code",
   "execution_count": null,
   "id": "6e9bb0d4",
   "metadata": {},
   "outputs": [],
   "source": [
    "training_data = training_data.assign(\n",
    "    FamilySize = training_data['SibSp'] + training_data['Parch'],\n",
    ")\n",
    "training_data = training_data.assign(\n",
    "    FarePerPerson = training_data['Fare'] / (training_data['FamilySize'] + 1),\n",
    ")\n",
    "\n",
    "\n",
    "test_data = test_data.assign(\n",
    "    FamilySize = test_data['SibSp'] + test_data['Parch'],\n",
    ")\n",
    "test_data = test_data.assign(\n",
    "    FarePerPerson = test_data['Fare'] / (test_data['FamilySize'] + 1),\n",
    ")"
   ]
  },
  {
   "cell_type": "code",
   "execution_count": null,
   "id": "a3ecfc16-293b-4dc4-98ca-776082dbaac7",
   "metadata": {},
   "outputs": [],
   "source": [
    "training_data = training_data.assign(\n",
    "    WithFamily = training_data['SibSp'] + training_data['Parch'] > 0,\n",
    ")\n",
    "\n",
    "\n",
    "test_data = test_data.assign(\n",
    "    WithFamily = training_data['SibSp'] + training_data['Parch'] > 0,\n",
    ")"
   ]
  },
  {
   "cell_type": "code",
   "execution_count": null,
   "id": "ad8ba002",
   "metadata": {},
   "outputs": [],
   "source": [
    "training_data"
   ]
  },
  {
   "cell_type": "code",
   "execution_count": null,
   "id": "eb3e5921-8b14-4074-8264-9b7808064f5e",
   "metadata": {},
   "outputs": [],
   "source": [
    "print('Feature Count:', len(training_data.keys()))"
   ]
  },
  {
   "cell_type": "code",
   "execution_count": null,
   "id": "e303d6b8",
   "metadata": {},
   "outputs": [],
   "source": [
    "training_data.to_csv('train_processed.csv', index=False)\n",
    "test_data.to_csv('test_processed.csv', index=False)"
   ]
  }
 ],
 "metadata": {
  "kernelspec": {
   "display_name": "Python 3",
   "language": "python",
   "name": "python3"
  },
  "language_info": {
   "codemirror_mode": {
    "name": "ipython",
    "version": 3
   },
   "file_extension": ".py",
   "mimetype": "text/x-python",
   "name": "python",
   "nbconvert_exporter": "python",
   "pygments_lexer": "ipython3",
   "version": "3.8.8"
  }
 },
 "nbformat": 4,
 "nbformat_minor": 5
}
