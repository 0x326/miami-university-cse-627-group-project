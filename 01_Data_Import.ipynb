{
 "cells": [
  {
   "cell_type": "markdown",
   "id": "77c4e1e7",
   "metadata": {},
   "source": [
    "# CSE 627 Group Project"
   ]
  },
  {
   "cell_type": "markdown",
   "id": "afbc58f2",
   "metadata": {},
   "source": [
    "## Configuration"
   ]
  },
  {
   "cell_type": "code",
   "execution_count": null,
   "id": "90b943cb",
   "metadata": {},
   "outputs": [],
   "source": [
    "# Jupyter config\n",
    "%load_ext rpy2.ipython\n",
    "%matplotlib inline\n",
    "%config InlineBackend.figure_format = 'svg'  # Or 'retina'"
   ]
  },
  {
   "cell_type": "code",
   "execution_count": null,
   "id": "938dab8f",
   "metadata": {},
   "outputs": [],
   "source": [
    "# Python imports\n",
    "import numpy as np\n",
    "import pandas as pd\n",
    "import matplotlib.pyplot as plt\n",
    "from scipy.stats import *\n",
    "from sklearn.mixture import *\n",
    "\n",
    "#plt.style.use('seaborn-whitegrid')  # Set the aesthetic style of the plots"
   ]
  },
  {
   "cell_type": "markdown",
   "id": "9de4f7a8",
   "metadata": {},
   "source": [
    "## Data Import & Feature Extraction"
   ]
  },
  {
   "cell_type": "code",
   "execution_count": null,
   "id": "30e5477c",
   "metadata": {},
   "outputs": [],
   "source": [
    "training_data = pd.read_csv('train.csv')\n",
    "test_data = pd.read_csv('test.csv')"
   ]
  },
  {
   "cell_type": "markdown",
   "id": "42b820a1",
   "metadata": {},
   "source": [
    "Based on <https://triangleinequality.wordpress.com/2013/09/08/basic-feature-engineering-with-the-titanic-data/>"
   ]
  },
  {
   "cell_type": "code",
   "execution_count": null,
   "id": "2fdfb06d",
   "metadata": {},
   "outputs": [],
   "source": [
    "name_regex = r\"\"\"^(?P<LastName>[A-Za-z '-]+?), ((the )?(?P<Title>\\w+)( of)?\\.)?( (?P<FirstName>[A-Za-z'-]+?|[A-Za-z'-]+?\\/[A-Za-z'-]+?))?( (?P<MiddleNames>[A-Za-z- ]+?))?( \".+| \\(.+)?$\"\"\"\n",
    "\n",
    "parsed_names = training_data['Name'].str.extract(name_regex)\n",
    "training_data = training_data.assign(\n",
    "    NameTitle = parsed_names['Title'],\n",
    "    FirstName = parsed_names['FirstName'],\n",
    "    MiddleNames = parsed_names['MiddleNames'],\n",
    "    LastName = parsed_names['LastName'],\n",
    ")\n",
    "del training_data['Name']\n",
    "\n",
    "parsed_names = test_data['Name'].str.extract(name_regex)\n",
    "test_data = test_data.assign(\n",
    "    NameTitle = parsed_names['Title'],\n",
    "    FirstName = parsed_names['FirstName'],\n",
    "    MiddleNames = parsed_names['MiddleNames'],\n",
    "    LastName = parsed_names['LastName'],\n",
    ")\n",
    "del test_data['Name']"
   ]
  },
  {
   "cell_type": "code",
   "execution_count": null,
   "id": "5446aed2",
   "metadata": {},
   "outputs": [],
   "source": [
    "deck_regex = r\"\"\"^(?P<Deck>[A-Z])(?P<CabinNumber>\\d+)\"\"\"\n",
    "\n",
    "parsed_decks = training_data['Cabin'].str.extract(deck_regex)\n",
    "training_data = training_data.assign(\n",
    "    Deck = parsed_decks['Deck'],\n",
    "    CabinNumber = parsed_decks['CabinNumber'],\n",
    ")\n",
    "del training_data['Cabin']\n",
    "\n",
    "parsed_decks = test_data['Cabin'].str.extract(deck_regex)\n",
    "test_data = test_data.assign(\n",
    "    Deck = parsed_decks['Deck'],\n",
    "    CabinNumber = parsed_decks['CabinNumber'],\n",
    ")\n",
    "del test_data['Cabin']"
   ]
  },
  {
   "cell_type": "code",
   "execution_count": null,
   "id": "d2cb8664",
   "metadata": {},
   "outputs": [],
   "source": [
    "training_data = training_data.assign(\n",
    "    Family_Size = training_data['SibSp'] + training_data['Parch'],\n",
    ")\n",
    "training_data = training_data.assign(\n",
    "    Fare_Per_Person = training_data['Fare'] / (training_data['Family_Size'] + 1),\n",
    ")\n",
    "\n",
    "\n",
    "test_data = test_data.assign(\n",
    "    Family_Size = test_data['SibSp'] + test_data['Parch'],\n",
    ")\n",
    "test_data = test_data.assign(\n",
    "    Fare_Per_Person = test_data['Fare'] / (test_data['Family_Size'] + 1),\n",
    ")"
   ]
  },
  {
   "cell_type": "code",
   "execution_count": null,
   "id": "personal-wichita",
   "metadata": {},
   "outputs": [],
   "source": [
    "training_data"
   ]
  },
  {
   "cell_type": "code",
   "execution_count": null,
   "id": "2982c4c7-bad6-470b-92c8-ebee3f631a77",
   "metadata": {},
   "outputs": [],
   "source": [
    "training_data.to_csv('train_processed.csv')\n",
    "test_data.to_csv('test_processed.csv')"
   ]
  },
  {
   "cell_type": "code",
   "execution_count": null,
   "id": "366b1188-3bc9-4ac3-a713-6f9132d3e093",
   "metadata": {},
   "outputs": [],
   "source": []
  }
 ],
 "metadata": {
  "kernelspec": {
   "display_name": "Python 3",
   "language": "python",
   "name": "python3"
  },
  "language_info": {
   "codemirror_mode": {
    "name": "ipython",
    "version": 3
   },
   "file_extension": ".py",
   "mimetype": "text/x-python",
   "name": "python",
   "nbconvert_exporter": "python",
   "pygments_lexer": "ipython3",
   "version": "3.8.8"
  }
 },
 "nbformat": 4,
 "nbformat_minor": 5
}
