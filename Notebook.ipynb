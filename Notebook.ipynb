{
 "cells": [
  {
   "cell_type": "markdown",
   "id": "blessed-response",
   "metadata": {},
   "source": [
    "# CSE 627 Group Project"
   ]
  },
  {
   "cell_type": "markdown",
   "id": "becoming-pastor",
   "metadata": {},
   "source": [
    "## Configuration"
   ]
  },
  {
   "cell_type": "code",
   "execution_count": null,
   "id": "distinct-mumbai",
   "metadata": {},
   "outputs": [],
   "source": [
    "# Jupyter config\n",
    "%matplotlib inline\n",
    "%config InlineBackend.figure_format = 'svg'  # Or 'retina'"
   ]
  },
  {
   "cell_type": "code",
   "execution_count": null,
   "id": "ongoing-christopher",
   "metadata": {},
   "outputs": [],
   "source": [
    "# Python imports\n",
    "import numpy as np\n",
    "import pandas as pd\n",
    "import matplotlib.pyplot as plt\n",
    "from scipy.stats import *\n",
    "from sklearn.mixture import *\n",
    "\n",
    "#plt.style.use('seaborn-whitegrid')  # Set the aesthetic style of the plots"
   ]
  },
  {
   "cell_type": "markdown",
   "id": "fallen-engine",
   "metadata": {},
   "source": [
    "## Data Import & Pre-processing"
   ]
  },
  {
   "cell_type": "code",
   "execution_count": null,
   "id": "western-tongue",
   "metadata": {},
   "outputs": [],
   "source": [
    "training_data = pd.read_csv('train.csv')\n",
    "test_data = pd.read_csv('test.csv')"
   ]
  },
  {
   "cell_type": "markdown",
   "id": "tamil-computer",
   "metadata": {},
   "source": [
    "Based on <https://triangleinequality.wordpress.com/2013/09/08/basic-feature-engineering-with-the-titanic-data/>"
   ]
  },
  {
   "cell_type": "code",
   "execution_count": null,
   "id": "touched-guitar",
   "metadata": {},
   "outputs": [],
   "source": [
    "name_regex = r\"\"\"^(?P<LastName>[A-Za-z '-]+?), ((the )?(?P<Title>\\w+)( of)?\\.)?( (?P<FirstName>[A-Za-z'-]+?|[A-Za-z'-]+?\\/[A-Za-z'-]+?))?( (?P<MiddleNames>[A-Za-z- ]+?))?( \".+| \\(.+)?$\"\"\"\n",
    "\n",
    "parsed_names = training_data['Name'].str.extract(name_regex)\n",
    "training_data = training_data.assign(\n",
    "    NameTitle = parsed_names['Title'],\n",
    "    FirstName = parsed_names['FirstName'],\n",
    "    MiddleNames = parsed_names['MiddleNames'],\n",
    "    LastName = parsed_names['LastName'],\n",
    ")\n",
    "\n",
    "parsed_names = test_data['Name'].str.extract(name_regex)\n",
    "test_data = test_data.assign(\n",
    "    NameTitle = parsed_names['Title'],\n",
    "    FirstName = parsed_names['FirstName'],\n",
    "    MiddleNames = parsed_names['MiddleNames'],\n",
    "    LastName = parsed_names['LastName'],\n",
    ")"
   ]
  },
  {
   "cell_type": "code",
   "execution_count": null,
   "id": "permanent-speed",
   "metadata": {},
   "outputs": [],
   "source": [
    "deck_regex = r\"\"\"^(?P<Deck>[A-Z])\\d+\"\"\"\n",
    "\n",
    "parsed_decks = training_data['Cabin'].str.extract(deck_regex)\n",
    "training_data = training_data.assign(\n",
    "    Deck = parsed_decks['Deck'],\n",
    ")\n",
    "\n",
    "parsed_decks = test_data['Cabin'].str.extract(deck_regex)\n",
    "test_data = test_data.assign(\n",
    "    Deck = parsed_decks['Deck'],\n",
    ")"
   ]
  },
  {
   "cell_type": "code",
   "execution_count": null,
   "id": "protecting-province",
   "metadata": {},
   "outputs": [],
   "source": [
    "training_data = training_data.assign(\n",
    "    Family_Size = training_data['SibSp'] + training_data['Parch'],\n",
    ")\n",
    "training_data = training_data.assign(\n",
    "    Fare_Per_Person = training_data['Fare'] / (training_data['Family_Size'] + 1),\n",
    ")\n",
    "\n",
    "\n",
    "test_data = test_data.assign(\n",
    "    Family_Size = test_data['SibSp'] + test_data['Parch'],\n",
    ")\n",
    "test_data = test_data.assign(\n",
    "    Fare_Per_Person = test_data['Fare'] / (test_data['Family_Size'] + 1),\n",
    ")"
   ]
  },
  {
   "cell_type": "code",
   "execution_count": null,
   "id": "collected-spirit",
   "metadata": {},
   "outputs": [],
   "source": [
    "training_data"
   ]
  },
  {
   "cell_type": "code",
   "execution_count": null,
   "id": "dimensional-subcommittee",
   "metadata": {},
   "outputs": [],
   "source": []
  }
 ],
 "metadata": {
  "kernelspec": {
   "display_name": "Python 3",
   "language": "python",
   "name": "python3"
  },
  "language_info": {
   "codemirror_mode": {
    "name": "ipython",
    "version": 3
   },
   "file_extension": ".py",
   "mimetype": "text/x-python",
   "name": "python",
   "nbconvert_exporter": "python",
   "pygments_lexer": "ipython3",
   "version": "3.8.6"
  }
 },
 "nbformat": 4,
 "nbformat_minor": 5
}
