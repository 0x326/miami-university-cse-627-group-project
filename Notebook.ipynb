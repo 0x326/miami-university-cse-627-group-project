{
 "cells": [
  {
   "cell_type": "markdown",
   "id": "prospective-breeding",
   "metadata": {},
   "source": [
    "# CSE 627 Group Project"
   ]
  },
  {
   "cell_type": "markdown",
   "id": "bigger-generation",
   "metadata": {},
   "source": [
    "## Configuration"
   ]
  },
  {
   "cell_type": "code",
   "execution_count": null,
   "id": "ready-worth",
   "metadata": {},
   "outputs": [],
   "source": [
    "# Jupyter config\n",
    "%matplotlib inline\n",
    "%config InlineBackend.figure_format = 'svg'  # Or 'retina'"
   ]
  },
  {
   "cell_type": "code",
   "execution_count": null,
   "id": "pleased-marsh",
   "metadata": {},
   "outputs": [],
   "source": [
    "# Python imports\n",
    "import numpy as np\n",
    "import pandas as pd\n",
    "import matplotlib.pyplot as plt\n",
    "from scipy.stats import *\n",
    "from sklearn.mixture import *\n",
    "\n",
    "#plt.style.use('seaborn-whitegrid')  # Set the aesthetic style of the plots"
   ]
  },
  {
   "cell_type": "markdown",
   "id": "quarterly-recipe",
   "metadata": {},
   "source": [
    "## Data Import & Pre-processing"
   ]
  },
  {
   "cell_type": "code",
   "execution_count": null,
   "id": "ruled-teaching",
   "metadata": {},
   "outputs": [],
   "source": [
    "training_data = pd.read_csv('train.csv')\n",
    "test_data = pd.read_csv('test.csv')"
   ]
  },
  {
   "cell_type": "code",
   "execution_count": null,
   "id": "passive-elevation",
   "metadata": {},
   "outputs": [],
   "source": [
    "parsed_names = training_data['Name'].str.extract(r\"\"\"^(?P<LastName>[A-Za-z '-]+?), (?P<Title>the \\w+\\. of|\\w+\\.)?( (?P<FirstName>[A-Za-z'-]+?|[A-Za-z'-]+?\\/[A-Za-z'-]+?))?( (?P<MiddleNames>[A-Za-z- ]+?))?( \".+| \\(.+)?$\"\"\")\n",
    "training_data = training_data.assign(\n",
    "    NameTitle = parsed_names['Title'],\n",
    "    FirstName = parsed_names['FirstName'],\n",
    "    MiddleNames = parsed_names['MiddleNames'],\n",
    "    LastName = parsed_names['LastName'],\n",
    ")\n",
    "\n",
    "parsed_names = test_data['Name'].str.extract(r\"\"\"^(?P<LastName>[A-Za-z '-]+?), (?P<Title>the \\w+\\. of|\\w+\\.)?( (?P<FirstName>[A-Za-z'-]+?|[A-Za-z'-]+?\\/[A-Za-z'-]+?))?( (?P<MiddleNames>[A-Za-z- ]+?))?( \".+| \\(.+)?$\"\"\")\n",
    "test_data = test_data.assign(\n",
    "    NameTitle = parsed_names['Title'],\n",
    "    FirstName = parsed_names['FirstName'],\n",
    "    MiddleNames = parsed_names['MiddleNames'],\n",
    "    LastName = parsed_names['LastName'],\n",
    ")\n",
    "\n",
    "training_data"
   ]
  },
  {
   "cell_type": "code",
   "execution_count": null,
   "id": "applicable-operator",
   "metadata": {},
   "outputs": [],
   "source": []
  }
 ],
 "metadata": {
  "kernelspec": {
   "display_name": "Python 3",
   "language": "python",
   "name": "python3"
  },
  "language_info": {
   "codemirror_mode": {
    "name": "ipython",
    "version": 3
   },
   "file_extension": ".py",
   "mimetype": "text/x-python",
   "name": "python",
   "nbconvert_exporter": "python",
   "pygments_lexer": "ipython3",
   "version": "3.8.6"
  }
 },
 "nbformat": 4,
 "nbformat_minor": 5
}
