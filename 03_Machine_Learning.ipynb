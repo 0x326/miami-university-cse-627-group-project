{
 "cells": [
  {
   "cell_type": "markdown",
   "id": "426c886e",
   "metadata": {},
   "source": [
    "# Machine Learning"
   ]
  },
  {
   "cell_type": "markdown",
   "id": "2da070bc",
   "metadata": {},
   "source": [
    "## Configuration"
   ]
  },
  {
   "cell_type": "code",
   "execution_count": null,
   "id": "3947bb8a",
   "metadata": {},
   "outputs": [],
   "source": [
    "# Jupyter config\n",
    "%load_ext rpy2.ipython\n",
    "%matplotlib inline\n",
    "%config InlineBackend.figure_format = 'svg'  # Or 'retina'"
   ]
  },
  {
   "cell_type": "code",
   "execution_count": null,
   "id": "5de060c3",
   "metadata": {},
   "outputs": [],
   "source": [
    "# Python imports\n",
    "import numpy as np\n",
    "import pandas as pd\n",
    "import matplotlib.pyplot as plt\n",
    "from scipy.stats import *\n",
    "from sklearn.preprocessing import *\n",
    "from sklearn.mixture import *\n",
    "\n",
    "#plt.style.use('seaborn-whitegrid')  # Set the aesthetic style of the plots"
   ]
  },
  {
   "cell_type": "markdown",
   "id": "a2329270",
   "metadata": {},
   "source": [
    "## Preprocessing"
   ]
  },
  {
   "cell_type": "code",
   "execution_count": null,
   "id": "8198a4b8",
   "metadata": {},
   "outputs": [],
   "source": [
    "training_data = pd.read_csv('train_processed.csv')\n",
    "test_data = pd.read_csv('test_processed.csv')"
   ]
  },
  {
   "cell_type": "code",
   "execution_count": null,
   "id": "13d4225b",
   "metadata": {},
   "outputs": [],
   "source": [
    "training_data"
   ]
  },
  {
   "cell_type": "code",
   "execution_count": null,
   "id": "c6186405",
   "metadata": {},
   "outputs": [],
   "source": [
    "label_encoders = {\n",
    "    'Sex': LabelEncoder(),\n",
    "    'Ticket': LabelEncoder(),\n",
    "    'Embarked': LabelEncoder(),\n",
    "    'NameTitle': LabelEncoder(),\n",
    "    'Deck': LabelEncoder(),\n",
    "}\n",
    "for feature, label_encoder in label_encoders.items():\n",
    "    label_encoder.fit(pd.concat((training_data[feature], test_data[feature])))\n",
    "    training_data[feature] = label_encoder.transform(training_data[feature])\n",
    "    test_data[feature] = label_encoder.transform(test_data[feature])"
   ]
  },
  {
   "cell_type": "code",
   "execution_count": null,
   "id": "0e4ef0d2",
   "metadata": {},
   "outputs": [],
   "source": [
    "training_data"
   ]
  },
  {
   "cell_type": "markdown",
   "id": "3fce3b5f",
   "metadata": {},
   "source": [
    "## Attempt 1: Linear regression"
   ]
  },
  {
   "cell_type": "code",
   "execution_count": null,
   "id": "e6e0c3c7",
   "metadata": {},
   "outputs": [],
   "source": [
    "LabelEncoder()"
   ]
  }
 ],
 "metadata": {
  "kernelspec": {
   "display_name": "Python 3",
   "language": "python",
   "name": "python3"
  },
  "language_info": {
   "codemirror_mode": {
    "name": "ipython",
    "version": 3
   },
   "file_extension": ".py",
   "mimetype": "text/x-python",
   "name": "python",
   "nbconvert_exporter": "python",
   "pygments_lexer": "ipython3",
   "version": "3.8.8"
  }
 },
 "nbformat": 4,
 "nbformat_minor": 5
}
