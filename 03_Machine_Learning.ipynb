{
 "cells": [
  {
   "cell_type": "markdown",
   "id": "896d51ac",
   "metadata": {},
   "source": [
    "# Machine Learning"
   ]
  },
  {
   "cell_type": "markdown",
   "id": "94e72072",
   "metadata": {},
   "source": [
    "## Configuration"
   ]
  },
  {
   "cell_type": "code",
   "execution_count": null,
   "id": "381ae680",
   "metadata": {},
   "outputs": [],
   "source": [
    "# Jupyter config\n",
    "%matplotlib inline\n",
    "%config InlineBackend.figure_format = 'svg'  # Or 'retina'"
   ]
  },
  {
   "cell_type": "code",
   "execution_count": null,
   "id": "b684d053",
   "metadata": {},
   "outputs": [],
   "source": [
    "# Python imports\n",
    "from collections import defaultdict\n",
    "from itertools import chain, combinations\n",
    "from typing import *\n",
    "\n",
    "import numpy as np\n",
    "import numpy.typing as npt\n",
    "import pandas as pd\n",
    "import matplotlib.pyplot as plt\n",
    "from joblib import Parallel, delayed\n",
    "from scipy.stats import *\n",
    "from sklearn.preprocessing import *\n",
    "from sklearn.mixture import *\n",
    "from tqdm.notebook import tqdm\n",
    "\n",
    "#plt.style.use('seaborn-whitegrid')  # Set the aesthetic style of the plots"
   ]
  },
  {
   "cell_type": "markdown",
   "id": "3b32fe24",
   "metadata": {},
   "source": [
    "## Preprocessing"
   ]
  },
  {
   "cell_type": "code",
   "execution_count": null,
   "id": "6000232d",
   "metadata": {},
   "outputs": [],
   "source": [
    "training_data = pd.read_csv('train_processed.csv')\n",
    "test_data = pd.read_csv('test_processed.csv')\n",
    "\n",
    "training_data.dropna(inplace=True)\n",
    "test_data.dropna(inplace=True)"
   ]
  },
  {
   "cell_type": "code",
   "execution_count": null,
   "id": "30402731",
   "metadata": {},
   "outputs": [],
   "source": [
    "training_data"
   ]
  },
  {
   "cell_type": "code",
   "execution_count": null,
   "id": "6a41f4e6",
   "metadata": {},
   "outputs": [],
   "source": [
    "label_encoders = {\n",
    "    'Sex': LabelEncoder(),\n",
    "    'Ticket': LabelEncoder(),\n",
    "    'Embarked': LabelEncoder(),\n",
    "    'NameTitle': LabelEncoder(),\n",
    "    'FirstName': LabelEncoder(),\n",
    "    'MiddleNames': LabelEncoder(),\n",
    "    'LastName': LabelEncoder(),\n",
    "    'Deck': LabelEncoder(),\n",
    "}\n",
    "for feature, label_encoder in label_encoders.items():\n",
    "    label_encoder.fit(pd.concat((training_data[feature], test_data[feature])))\n",
    "    training_data[feature] = label_encoder.transform(training_data[feature])\n",
    "    test_data[feature] = label_encoder.transform(test_data[feature])"
   ]
  },
  {
   "cell_type": "code",
   "execution_count": null,
   "id": "69a8a7f5",
   "metadata": {},
   "outputs": [],
   "source": [
    "training_data"
   ]
  },
  {
   "cell_type": "markdown",
   "id": "e0617a4e",
   "metadata": {},
   "source": [
    "## Selecting Features\n",
    "\n",
    "We will initally select the features which we believe would most affect the survival odds of an individual aboard the titanic"
   ]
  },
  {
   "cell_type": "markdown",
   "id": "502ffc17",
   "metadata": {},
   "source": [
    "#### We decide to keep the following features:\n",
    "\n",
    "* <b>PClass</b> - the class of the ticket, as we all know this had a large say in deciding who got on the escape boats\n",
    "* <b>Age</b> - An older person is weaker than a younger one on average.\n",
    "* <b>Fare</b> - Someone who paid a lot more money would be in a far different position than someone who did not\n",
    "* <b>Embarked</b> - Depending on the port they got on, (might play a role, not sure.. might get rid of this in other attempt)\n",
    "* <b>Deck</b> - The deck of the boat the person was staying is important when a boat is floating\n",
    "* <b>FamilySize</b> - If an individual had a family it is possible that they gave up their spot on an escape boat or attempted to rescue them\n",
    "* <b>FarePerPerson</b> - The amount paid per person (based on family size) could indicate how they were treated"
   ]
  },
  {
   "cell_type": "markdown",
   "id": "1c5e1af4",
   "metadata": {},
   "source": [
    "## Classifier Decision\n",
    "\n",
    "\n",
    "Using information seen in https://www.kaggle.com/mosleylm/titanic-data-set-exploration/execution#II.-Format-Data we decide that we will test many different classifiers and then select the highest performing one based on the F1 score.\n",
    "We will use a stratified 10-fold cross validation in order to train and test on all of our data. <br>\n",
    "We test the following classifiers:\n",
    "\n",
    "* <b>Gradient Boosting</b>\n",
    "* <b>Random Forest</b>\n",
    "* <b>KNeighbors</b>\n",
    "* <b>SVC</b>\n",
    "* <b>Decision Tree</b>\n",
    "* <b>Ada Boost</b>\n",
    "* <b>GaussianNB</b>\n",
    "* <b>Logistic Regression</b>"
   ]
  },
  {
   "cell_type": "code",
   "execution_count": null,
   "id": "06838e9c",
   "metadata": {},
   "outputs": [],
   "source": [
    "from sklearn.ensemble import RandomForestClassifier, AdaBoostClassifier, GradientBoostingClassifier\n",
    "from sklearn.svm import SVC\n",
    "from sklearn.neighbors import KNeighborsClassifier\n",
    "from sklearn.tree import DecisionTreeClassifier\n",
    "from sklearn.linear_model import LogisticRegression\n",
    "from sklearn.model_selection import StratifiedShuffleSplit\n",
    "from sklearn.naive_bayes import GaussianNB\n",
    "from sklearn.metrics import f1_score, accuracy_score, log_loss"
   ]
  },
  {
   "cell_type": "code",
   "execution_count": null,
   "id": "6304d8e2",
   "metadata": {},
   "outputs": [],
   "source": [
    "class Classifier(NamedTuple):\n",
    "    name: str\n",
    "    features: Sequence[str]\n",
    "\n",
    "\n",
    "class ClassifierResult(NamedTuple):\n",
    "    test_predictions: npt.ArrayLike\n",
    "    f1_score: np.float64\n",
    "    accuracy_score: np.float64\n",
    "\n",
    "\n",
    "def powerset(iterable):\n",
    "    \"powerset([1,2,3]) --> () (1,) (2,) (3,) (1,2) (1,3) (2,3) (1,2,3)\"\n",
    "    s = list(iterable)\n",
    "    return chain.from_iterable(combinations(s, r) for r in range(len(s)+1))\n",
    "\n",
    "\n",
    "def train_classifier(selected_features, train_true, classifier, num_splits=10) -> ClassifierResult:\n",
    "    X = training_data[list(selected_features)]\n",
    "    X = X.values\n",
    "    y = training_data[train_true]\n",
    "    y = np.asarray(y).reshape(-1)\n",
    "\n",
    "    splitter = StratifiedShuffleSplit(n_splits=num_splits, test_size=0.1, random_state=0)\n",
    "\n",
    "    average_f1_score = np.float64()\n",
    "    average_accuracy_score = np.float64()\n",
    "    for train_idx, test_idx in splitter.split(X, y):  # 10 folds\n",
    "        X_train, X_test = X[train_idx], X[test_idx]\n",
    "        Y_train, Y_test = y[train_idx], y[test_idx]\n",
    "        \n",
    "        classifier.fit(X_train, Y_train)\n",
    "\n",
    "        test_predictions = classifier.predict(X_test)\n",
    "        average_f1_score += f1_score(Y_test, test_predictions)\n",
    "        average_accuracy_score += accuracy_score(Y_test, test_predictions)\n",
    "\n",
    "    average_f1_score /= num_splits\n",
    "    average_accuracy_score /= num_splits\n",
    "\n",
    "    return ClassifierResult(test_predictions=test_predictions,\n",
    "                            f1_score=average_f1_score,\n",
    "                            accuracy_score=average_accuracy_score)\n",
    "\n",
    "\n",
    "def classifiers(selected_features):\n",
    "    classifiers_list = [\n",
    "        KNeighborsClassifier(5),\n",
    "        SVC(probability=True),\n",
    "        DecisionTreeClassifier(),\n",
    "        RandomForestClassifier(),\n",
    "        AdaBoostClassifier(),\n",
    "        GradientBoostingClassifier(),\n",
    "        GaussianNB(),\n",
    "        LogisticRegression(),\n",
    "    ]\n",
    "\n",
    "    classifiers_dict: Dict[Classifier, Any] = \\\n",
    "            {Classifier(name=classifier.__class__.__name__, features=tuple(selected_features)): classifier\n",
    "            for classifier in classifiers_list}\n",
    "\n",
    "    return classifiers_dict\n",
    "\n",
    "\n",
    "def train_all_classifiers():\n",
    "    train_true = ['Survived']\n",
    "    candidate_features = tuple(filter(lambda feature: feature not in train_true, training_data))\n",
    "\n",
    "    classifiers_by_f1_score: Dict[Classifier, np.float64] = defaultdict(int)\n",
    "    classifiers_by_accuracy_score: Dict[Classifier, np.float64] = defaultdict(int)\n",
    "\n",
    "    classifiers_group_dict = {selected_features: classifiers(selected_features)\n",
    "                              for selected_features in powerset(candidate_features)\n",
    "                              if len(selected_features) > 0}\n",
    "\n",
    "    jobs = (classifier_id\n",
    "            for selected_features in powerset(candidate_features)\n",
    "            if len(selected_features) > 0\n",
    "            for classifier_id in classifiers_group_dict[selected_features].keys())\n",
    "    job_results = (delayed(train_classifier)(selected_features, train_true, classifier)\n",
    "                   for selected_features in powerset(candidate_features)\n",
    "                   if len(selected_features) > 0\n",
    "                   for classifier in classifiers_group_dict[selected_features].values())\n",
    "    job_results = Parallel(n_jobs=-1, verbose=10)(job_results)\n",
    "    \n",
    "    for classifier_id, results in tqdm(zip(jobs, job_results), total=(2 ** len(candidate_features) - 1) * 8):\n",
    "        classifiers_by_f1_score[classifier_id] = results.f1_score\n",
    "        classifiers_by_accuracy_score[classifier_id] += results.accuracy_score\n",
    "\n",
    "    all_classifiers = {classifier_id: classifier\n",
    "                       for classifier_dict in classifiers_group_dict.values()\n",
    "                       for classifier_id, classifier in classifier_dict.items()}\n",
    "\n",
    "    return pd.DataFrame({\n",
    "                            'Classifier': all_classifiers.keys(),\n",
    "                            'F1 Score': [classifiers_by_f1_score[classifier] for classifier in all_classifiers],\n",
    "                            'Accuracy Score': [classifiers_by_accuracy_score[classifier] for classifier in all_classifiers],\n",
    "                        },\n",
    "                        columns=['Classifier', 'F1 Score', 'Accuracy Score'])\n"
   ]
  },
  {
   "cell_type": "code",
   "execution_count": null,
   "id": "196fc23d-bac3-4178-8f05-c009bc2a5e47",
   "metadata": {},
   "outputs": [],
   "source": [
    "train_all_classifiers().to_csv('classifier_stats.csv', index=False)"
   ]
  },
  {
   "cell_type": "markdown",
   "id": "f882bfc8",
   "metadata": {},
   "source": [
    "Based on our results it appears that the <b> "
   ]
  }
 ],
 "metadata": {
  "kernelspec": {
   "display_name": "Python 3",
   "language": "python",
   "name": "python3"
  },
  "language_info": {
   "codemirror_mode": {
    "name": "ipython",
    "version": 3
   },
   "file_extension": ".py",
   "mimetype": "text/x-python",
   "name": "python",
   "nbconvert_exporter": "python",
   "pygments_lexer": "ipython3",
   "version": "3.8.8"
  }
 },
 "nbformat": 4,
 "nbformat_minor": 5
}
