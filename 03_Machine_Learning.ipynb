{
 "cells": [
  {
   "cell_type": "markdown",
   "id": "fde463a2",
   "metadata": {},
   "source": [
    "# Machine Learning"
   ]
  },
  {
   "cell_type": "markdown",
   "id": "43fb28ae",
   "metadata": {},
   "source": [
    "## Configuration"
   ]
  },
  {
   "cell_type": "code",
   "execution_count": null,
   "id": "01774de6",
   "metadata": {},
   "outputs": [],
   "source": [
    "# Jupyter config\n",
    "%load_ext rpy2.ipython\n",
    "%matplotlib inline\n",
    "%config InlineBackend.figure_format = 'svg'  # Or 'retina'"
   ]
  },
  {
   "cell_type": "code",
   "execution_count": null,
   "id": "ea4990ef",
   "metadata": {},
   "outputs": [],
   "source": [
    "# Python imports\n",
    "from collections import defaultdict\n",
    "\n",
    "import numpy as np\n",
    "import pandas as pd\n",
    "import matplotlib.pyplot as plt\n",
    "from scipy.stats import *\n",
    "from sklearn.preprocessing import *\n",
    "from sklearn.mixture import *\n",
    "\n",
    "#plt.style.use('seaborn-whitegrid')  # Set the aesthetic style of the plots"
   ]
  },
  {
   "cell_type": "markdown",
   "id": "55671f61",
   "metadata": {},
   "source": [
    "## Preprocessing"
   ]
  },
  {
   "cell_type": "code",
   "execution_count": null,
   "id": "45cbe26e",
   "metadata": {},
   "outputs": [],
   "source": [
    "training_data = pd.read_csv('train_processed.csv')\n",
    "test_data = pd.read_csv('test_processed.csv')"
   ]
  },
  {
   "cell_type": "code",
   "execution_count": null,
   "id": "5e44d1a6",
   "metadata": {},
   "outputs": [],
   "source": [
    "training_data"
   ]
  },
  {
   "cell_type": "code",
   "execution_count": null,
   "id": "fcad2476",
   "metadata": {},
   "outputs": [],
   "source": [
    "label_encoders = {\n",
    "    'Sex': LabelEncoder(),\n",
    "    'Ticket': LabelEncoder(),\n",
    "    'Embarked': LabelEncoder(),\n",
    "    'NameTitle': LabelEncoder(),\n",
    "    'Deck': LabelEncoder(),\n",
    "}\n",
    "for feature, label_encoder in label_encoders.items():\n",
    "    label_encoder.fit(pd.concat((training_data[feature], test_data[feature])))\n",
    "    training_data[feature] = label_encoder.transform(training_data[feature])\n",
    "    test_data[feature] = label_encoder.transform(test_data[feature])"
   ]
  },
  {
   "cell_type": "code",
   "execution_count": null,
   "id": "64657a30",
   "metadata": {},
   "outputs": [],
   "source": [
    "training_data"
   ]
  },
  {
   "cell_type": "markdown",
   "id": "4cb443af",
   "metadata": {},
   "source": [
    "## Selecting Features\n",
    "\n",
    "We will initally select the features which we believe would most affect the survival odds of an individual aboard the titanic"
   ]
  },
  {
   "cell_type": "code",
   "execution_count": null,
   "id": "104abbd5",
   "metadata": {},
   "outputs": [],
   "source": [
    "selected_features = [\n",
    "    'PassengerId',\n",
    "    'Survived',\n",
    "    'Pclass',\n",
    "    'Age',\n",
    "    'Embarked',\n",
    "    'Deck',\n",
    "    'Fare',\n",
    "    'FamilySize',\n",
    "    'FarePerPerson',\n",
    "]\n",
    "\n",
    "training_data = training_data.drop(filter(lambda feature: feature not in selected_features, training_data), axis=1)\n",
    "test_data = test_data.drop(filter(lambda feature: feature not in selected_features, test_data), axis=1) "
   ]
  },
  {
   "cell_type": "code",
   "execution_count": null,
   "id": "1d5c827e",
   "metadata": {},
   "outputs": [],
   "source": [
    "training_data.dropna(inplace=True)\n",
    "test_data.dropna(inplace=True)"
   ]
  },
  {
   "cell_type": "code",
   "execution_count": null,
   "id": "f512642d",
   "metadata": {},
   "outputs": [],
   "source": [
    "training_data"
   ]
  },
  {
   "cell_type": "markdown",
   "id": "badbdecc",
   "metadata": {},
   "source": [
    "#### We decide to keep the following features:\n",
    "\n",
    "* <b>PClass</b> - the class of the ticket, as we all know this had a large say in deciding who got on the escape boats\n",
    "* <b>Age</b> - An older person is weaker than a younger one on average.\n",
    "* <b>Fare</b> - Someone who paid a lot more money would be in a far different position than someone who did not\n",
    "* <b>Embarked</b> - Depending on the port they got on, (might play a role, not sure.. might get rid of this in other attempt)\n",
    "* <b>Deck</b> - The deck of the boat the person was staying is important when a boat is floating\n",
    "* <b>FamilySize</b> - If an individual had a family it is possible that they gave up their spot on an escape boat or attempted to rescue them\n",
    "* <b>FarePerPerson</b> - The amount paid per person (based on family size) could indicate how they were treated"
   ]
  },
  {
   "cell_type": "code",
   "execution_count": null,
   "id": "b7cecc1f",
   "metadata": {},
   "outputs": [],
   "source": [
    "features = ['Pclass', 'Age', 'Fare', 'Embarked', 'Deck', 'FamilySize', 'FarePerPerson']\n",
    "train_true = ['Survived']\n",
    "\n",
    "X = training_data[features]\n",
    "y = training_data[train_true]\n",
    "y = np.asarray(y).reshape(-1)\n",
    "\n",
    "features, train_true"
   ]
  },
  {
   "cell_type": "markdown",
   "id": "679d2ae5",
   "metadata": {},
   "source": [
    "## Classifier Decision\n",
    "\n",
    "\n",
    "Using information seen in https://www.kaggle.com/mosleylm/titanic-data-set-exploration/execution#II.-Format-Data we decide that we will test many different classifiers and then select the highest performing one based on the F1 score.\n",
    "We will use a stratified 10-fold cross validation in order to train and test on all of our data. <br>\n",
    "We test the following classifiers:\n",
    "\n",
    "* <b>Gradient Boosting</b>\n",
    "* <b>Random Forest</b>\n",
    "* <b>KNeighbors</b>\n",
    "* <b>SVC</b>\n",
    "* <b>Decision Tree</b>\n",
    "* <b>Ada Boost</b>\n",
    "* <b>GaussianNB</b>\n",
    "* <b>Logistic Regression</b>"
   ]
  },
  {
   "cell_type": "code",
   "execution_count": null,
   "id": "be84358c",
   "metadata": {},
   "outputs": [],
   "source": [
    "from sklearn.ensemble import RandomForestClassifier, AdaBoostClassifier, GradientBoostingClassifier\n",
    "from sklearn.svm import SVC\n",
    "from sklearn.neighbors import KNeighborsClassifier\n",
    "from sklearn.tree import DecisionTreeClassifier\n",
    "from sklearn.linear_model import LogisticRegression\n",
    "from sklearn.model_selection import StratifiedShuffleSplit\n",
    "from sklearn.naive_bayes import GaussianNB\n",
    "from sklearn.metrics import f1_score, accuracy_score, log_loss"
   ]
  },
  {
   "cell_type": "code",
   "execution_count": null,
   "id": "71e953fb",
   "metadata": {},
   "outputs": [],
   "source": [
    "classifiers = [\n",
    "    KNeighborsClassifier(5),\n",
    "    SVC(probability=True),\n",
    "    DecisionTreeClassifier(),\n",
    "    RandomForestClassifier(),\n",
    "    AdaBoostClassifier(),\n",
    "    GradientBoostingClassifier(),\n",
    "    GaussianNB(),\n",
    "    LogisticRegression(),\n",
    "]\n",
    "\n",
    "splits = StratifiedShuffleSplit(n_splits=10, test_size=0.1, random_state=0)\n",
    "\n",
    "\n",
    "log_columns = ['Classifier', 'F1 Score', 'Accuracy Score']\n",
    "log = pd.DataFrame(columns=log_columns)\n",
    "classifiers_by_f1_score = defaultdict(int)\n",
    "classifiers_by_accuracy_score = defaultdict(int)\n",
    "\n",
    "X = X.values\n",
    "\n",
    "\n",
    "for train_idx, test_idx in splits.split(X, y):  # 10 folds\n",
    "    X_train, X_test = X[train_idx], X[test_idx]\n",
    "    Y_train, Y_test = y[train_idx], y[test_idx]\n",
    "    \n",
    "    for classifier in classifiers:\n",
    "        name = classifier.__class__.__name__\n",
    "        classifier.fit(X_train, Y_train)\n",
    "        test_predictions = classifier.predict(X_test)\n",
    "        \n",
    "        test_predictions_f1_score = f1_score(Y_test, test_predictions)\n",
    "        test_predictions_accuracy_score = accuracy_score(Y_test, test_predictions)\n",
    "\n",
    "    \n",
    "        classifiers_by_f1_score[name] += test_predictions_f1_score\n",
    "        classifiers_by_accuracy_score[name] += test_predictions_accuracy_score\n",
    "\n",
    "for classifier in classifiers:\n",
    "    classifiers_by_f1_score[classifier] /= 10.0\n",
    "    classifiers_by_accuracy_score[classifier] /= 10.0\n",
    "    log_ = pd.DataFrame([[classifier, classifiers_by_f1_score[classifier], classifiers_by_accuracy_score[classifier]]], columns=log_columns)\n",
    "    log = log.append(log_)\n",
    "\n",
    "log"
   ]
  },
  {
   "cell_type": "markdown",
   "id": "8dc27681",
   "metadata": {},
   "source": [
    "Based on our results it appears that the <b> "
   ]
  }
 ],
 "metadata": {
  "kernelspec": {
   "display_name": "Python 3",
   "language": "python",
   "name": "python3"
  },
  "language_info": {
   "codemirror_mode": {
    "name": "ipython",
    "version": 3
   },
   "file_extension": ".py",
   "mimetype": "text/x-python",
   "name": "python",
   "nbconvert_exporter": "python",
   "pygments_lexer": "ipython3",
   "version": "3.8.8"
  }
 },
 "nbformat": 4,
 "nbformat_minor": 5
}
