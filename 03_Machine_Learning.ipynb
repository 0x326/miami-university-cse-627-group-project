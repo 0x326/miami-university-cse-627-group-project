{
 "cells": [
  {
   "cell_type": "markdown",
   "id": "98fc7dee",
   "metadata": {},
   "source": [
    "# Machine Learning"
   ]
  },
  {
   "cell_type": "markdown",
   "id": "a2ba2156",
   "metadata": {},
   "source": [
    "## Configuration"
   ]
  },
  {
   "cell_type": "code",
   "execution_count": null,
   "id": "e4c66ffd",
   "metadata": {},
   "outputs": [],
   "source": [
    "# Jupyter config\n",
    "%load_ext rpy2.ipython\n",
    "%matplotlib inline\n",
    "%config InlineBackend.figure_format = 'svg'  # Or 'retina'"
   ]
  },
  {
   "cell_type": "code",
   "execution_count": null,
   "id": "c4c4ac32",
   "metadata": {},
   "outputs": [],
   "source": [
    "# Python imports\n",
    "from collections import defaultdict\n",
    "from itertools import chain, combinations\n",
    "from typing import *\n",
    "\n",
    "import numpy as np\n",
    "import pandas as pd\n",
    "import matplotlib.pyplot as plt\n",
    "from scipy.stats import *\n",
    "from sklearn.preprocessing import *\n",
    "from sklearn.mixture import *\n",
    "from tqdm.notebook import tqdm\n",
    "\n",
    "#plt.style.use('seaborn-whitegrid')  # Set the aesthetic style of the plots"
   ]
  },
  {
   "cell_type": "markdown",
   "id": "d5c73ab1",
   "metadata": {},
   "source": [
    "## Preprocessing"
   ]
  },
  {
   "cell_type": "code",
   "execution_count": null,
   "id": "3da8a323",
   "metadata": {},
   "outputs": [],
   "source": [
    "training_data = pd.read_csv('train_processed.csv')\n",
    "test_data = pd.read_csv('test_processed.csv')\n",
    "\n",
    "training_data.dropna(inplace=True)\n",
    "test_data.dropna(inplace=True)"
   ]
  },
  {
   "cell_type": "code",
   "execution_count": null,
   "id": "9d7d4587",
   "metadata": {},
   "outputs": [],
   "source": [
    "training_data"
   ]
  },
  {
   "cell_type": "code",
   "execution_count": null,
   "id": "3757085b",
   "metadata": {},
   "outputs": [],
   "source": [
    "label_encoders = {\n",
    "    'Sex': LabelEncoder(),\n",
    "    'Ticket': LabelEncoder(),\n",
    "    'Embarked': LabelEncoder(),\n",
    "    'NameTitle': LabelEncoder(),\n",
    "    'FirstName': LabelEncoder(),\n",
    "    'MiddleNames': LabelEncoder(),\n",
    "    'LastName': LabelEncoder(),\n",
    "    'Deck': LabelEncoder(),\n",
    "}\n",
    "for feature, label_encoder in label_encoders.items():\n",
    "    label_encoder.fit(pd.concat((training_data[feature], test_data[feature])))\n",
    "    training_data[feature] = label_encoder.transform(training_data[feature])\n",
    "    test_data[feature] = label_encoder.transform(test_data[feature])"
   ]
  },
  {
   "cell_type": "code",
   "execution_count": null,
   "id": "9bbf74de",
   "metadata": {},
   "outputs": [],
   "source": [
    "training_data"
   ]
  },
  {
   "cell_type": "markdown",
   "id": "c3619221",
   "metadata": {},
   "source": [
    "## Selecting Features\n",
    "\n",
    "We will initally select the features which we believe would most affect the survival odds of an individual aboard the titanic"
   ]
  },
  {
   "cell_type": "markdown",
   "id": "d81c9953",
   "metadata": {},
   "source": [
    "#### We decide to keep the following features:\n",
    "\n",
    "* <b>PClass</b> - the class of the ticket, as we all know this had a large say in deciding who got on the escape boats\n",
    "* <b>Age</b> - An older person is weaker than a younger one on average.\n",
    "* <b>Fare</b> - Someone who paid a lot more money would be in a far different position than someone who did not\n",
    "* <b>Embarked</b> - Depending on the port they got on, (might play a role, not sure.. might get rid of this in other attempt)\n",
    "* <b>Deck</b> - The deck of the boat the person was staying is important when a boat is floating\n",
    "* <b>FamilySize</b> - If an individual had a family it is possible that they gave up their spot on an escape boat or attempted to rescue them\n",
    "* <b>FarePerPerson</b> - The amount paid per person (based on family size) could indicate how they were treated"
   ]
  },
  {
   "cell_type": "markdown",
   "id": "8a18a48f",
   "metadata": {},
   "source": [
    "## Classifier Decision\n",
    "\n",
    "\n",
    "Using information seen in https://www.kaggle.com/mosleylm/titanic-data-set-exploration/execution#II.-Format-Data we decide that we will test many different classifiers and then select the highest performing one based on the F1 score.\n",
    "We will use a stratified 10-fold cross validation in order to train and test on all of our data. <br>\n",
    "We test the following classifiers:\n",
    "\n",
    "* <b>Gradient Boosting</b>\n",
    "* <b>Random Forest</b>\n",
    "* <b>KNeighbors</b>\n",
    "* <b>SVC</b>\n",
    "* <b>Decision Tree</b>\n",
    "* <b>Ada Boost</b>\n",
    "* <b>GaussianNB</b>\n",
    "* <b>Logistic Regression</b>"
   ]
  },
  {
   "cell_type": "code",
   "execution_count": null,
   "id": "d7ad4027",
   "metadata": {},
   "outputs": [],
   "source": [
    "from sklearn.ensemble import RandomForestClassifier, AdaBoostClassifier, GradientBoostingClassifier\n",
    "from sklearn.svm import SVC\n",
    "from sklearn.neighbors import KNeighborsClassifier\n",
    "from sklearn.tree import DecisionTreeClassifier\n",
    "from sklearn.linear_model import LogisticRegression\n",
    "from sklearn.model_selection import StratifiedShuffleSplit\n",
    "from sklearn.naive_bayes import GaussianNB\n",
    "from sklearn.metrics import f1_score, accuracy_score, log_loss"
   ]
  },
  {
   "cell_type": "code",
   "execution_count": null,
   "id": "59c3ba7d",
   "metadata": {},
   "outputs": [],
   "source": [
    "class Classifier(NamedTuple):\n",
    "    name: str\n",
    "    features: Sequence[str]\n",
    "\n",
    "\n",
    "def powerset(iterable):\n",
    "    \"powerset([1,2,3]) --> () (1,) (2,) (3,) (1,2) (1,3) (2,3) (1,2,3)\"\n",
    "    s = list(iterable)\n",
    "    return chain.from_iterable(combinations(s, r) for r in range(len(s)+1))"
   ]
  },
  {
   "cell_type": "code",
   "execution_count": null,
   "id": "8af6249b",
   "metadata": {},
   "outputs": [],
   "source": [
    "num_splits = 10\n",
    "splitter = StratifiedShuffleSplit(n_splits=num_splits, test_size=0.1, random_state=0)\n",
    "\n",
    "train_true = ['Survived']\n",
    "candidate_features = filter(lambda feature: feature not in train_true, training_data)\n",
    "\n",
    "classifiers_by_f1_score: Dict[Classifier, int] = defaultdict(int)\n",
    "classifiers_by_accuracy_score: Dict[Classifier, int] = defaultdict(int)\n",
    "\n",
    "for selected_features in tqdm(tuple(powerset(candidate_features))):\n",
    "    if len(selected_features) == 0:\n",
    "        continue\n",
    "    X = training_data[list(selected_features)]\n",
    "    X = X.values\n",
    "    y = training_data[train_true]\n",
    "    y = np.asarray(y).reshape(-1)\n",
    "\n",
    "    classifiers = [\n",
    "        KNeighborsClassifier(5),\n",
    "        SVC(probability=True),\n",
    "        DecisionTreeClassifier(),\n",
    "        RandomForestClassifier(),\n",
    "        AdaBoostClassifier(),\n",
    "        GradientBoostingClassifier(),\n",
    "        GaussianNB(),\n",
    "        LogisticRegression(),\n",
    "    ]\n",
    "    classifiers: Dict[Classifier, Any] = \\\n",
    "        {Classifier(name=classifier.__class__.__name__, features=tuple(selected_features)): classifier\n",
    "         for classifier in classifiers}\n",
    "\n",
    "    for train_idx, test_idx in splitter.split(X, y):  # 10 folds\n",
    "        X_train, X_test = X[train_idx], X[test_idx]\n",
    "        Y_train, Y_test = y[train_idx], y[test_idx]\n",
    "        \n",
    "        for classifier_id, classifier in classifiers.items():\n",
    "            classifier.fit(X_train, Y_train)\n",
    "            \n",
    "            test_predictions = classifier.predict(X_test)\n",
    "            classifiers_by_f1_score[classifier_id] += f1_score(Y_test, test_predictions)\n",
    "            classifiers_by_accuracy_score[classifier_id] += accuracy_score(Y_test, test_predictions)\n",
    "\n",
    "    for classifier_id, classifier in classifiers.items():\n",
    "        classifiers_by_f1_score[classifier_id] /= float(num_splits)\n",
    "        classifiers_by_accuracy_score[classifier_id] /= float(num_splits)\n",
    "\n",
    "log = pd.DataFrame({\n",
    "                        'Classifier': classifiers.keys(),\n",
    "                        'F1 Score': [classifiers_by_f1_score[classifier] for classifier in classifiers],\n",
    "                        'Accuracy Score': [classifiers_by_accuracy_score[classifier] for classifier in classifiers],\n",
    "                    },\n",
    "                    columns=['Classifier', 'F1 Score', 'Accuracy Score'])\n",
    "\n",
    "log"
   ]
  },
  {
   "cell_type": "markdown",
   "id": "4a663a03",
   "metadata": {},
   "source": [
    "Based on our results it appears that the <b> "
   ]
  }
 ],
 "metadata": {
  "kernelspec": {
   "display_name": "Python 3",
   "language": "python",
   "name": "python3"
  },
  "language_info": {
   "codemirror_mode": {
    "name": "ipython",
    "version": 3
   },
   "file_extension": ".py",
   "mimetype": "text/x-python",
   "name": "python",
   "nbconvert_exporter": "python",
   "pygments_lexer": "ipython3",
   "version": "3.8.8"
  }
 },
 "nbformat": 4,
 "nbformat_minor": 5
}
