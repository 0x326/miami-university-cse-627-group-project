{
 "cells": [
  {
   "cell_type": "markdown",
   "id": "e7e4e154",
   "metadata": {},
   "source": [
    "# Machine Learning"
   ]
  },
  {
   "cell_type": "markdown",
   "id": "a0d3d9e5",
   "metadata": {},
   "source": [
    "## Configuration"
   ]
  },
  {
   "cell_type": "code",
   "execution_count": null,
   "id": "571d9c0f",
   "metadata": {},
   "outputs": [],
   "source": [
    "# Jupyter config\n",
    "%load_ext rpy2.ipython\n",
    "%matplotlib inline\n",
    "%config InlineBackend.figure_format = 'svg'  # Or 'retina'"
   ]
  },
  {
   "cell_type": "code",
   "execution_count": null,
   "id": "b0c1f2c8",
   "metadata": {},
   "outputs": [],
   "source": [
    "# Python imports\n",
    "import numpy as np\n",
    "import pandas as pd\n",
    "import matplotlib.pyplot as plt\n",
    "from scipy.stats import *\n",
    "from sklearn.preprocessing import *\n",
    "from sklearn.mixture import *\n",
    "\n",
    "#plt.style.use('seaborn-whitegrid')  # Set the aesthetic style of the plots"
   ]
  },
  {
   "cell_type": "markdown",
   "id": "ba4adb48",
   "metadata": {},
   "source": [
    "## Preprocessing"
   ]
  },
  {
   "cell_type": "code",
   "execution_count": null,
   "id": "e27b2cec",
   "metadata": {},
   "outputs": [],
   "source": [
    "training_data = pd.read_csv('train_processed.csv')\n",
    "test_data = pd.read_csv('test_processed.csv')"
   ]
  },
  {
   "cell_type": "code",
   "execution_count": null,
   "id": "e6f6f6d9",
   "metadata": {},
   "outputs": [],
   "source": [
    "training_data"
   ]
  },
  {
   "cell_type": "code",
   "execution_count": null,
   "id": "57ddfef0",
   "metadata": {},
   "outputs": [],
   "source": [
    "label_encoders = {\n",
    "    'Sex': LabelEncoder(),\n",
    "    'Ticket': LabelEncoder(),\n",
    "    'Embarked': LabelEncoder(),\n",
    "    'NameTitle': LabelEncoder(),\n",
    "    'Deck': LabelEncoder(),\n",
    "}\n",
    "for feature, label_encoder in label_encoders.items():\n",
    "    label_encoder.fit(pd.concat((training_data[feature], test_data[feature])))\n",
    "    training_data[feature] = label_encoder.transform(training_data[feature])\n",
    "    test_data[feature] = label_encoder.transform(test_data[feature])"
   ]
  },
  {
   "cell_type": "code",
   "execution_count": null,
   "id": "e73e2eba",
   "metadata": {},
   "outputs": [],
   "source": [
    "training_data"
   ]
  },
  {
   "cell_type": "markdown",
   "id": "d0cc1e9a",
   "metadata": {},
   "source": [
    "## Selecting Features\n",
    "\n",
    "We will initally select the features which we believe would most affect the survival odds of an individual aboard the titanic"
   ]
  },
  {
   "cell_type": "code",
   "execution_count": null,
   "id": "d71a883b",
   "metadata": {},
   "outputs": [],
   "source": [
    "training_data = training_data.drop(['FirstName', 'MiddleNames', 'LastName', 'Sex', 'Ticket', 'CabinNumber', 'SibSp', 'Parch', 'NameTitle'], axis=1) \n",
    "test_data = test_data.drop(['FirstName', 'MiddleNames', 'LastName', 'Sex', 'Ticket', 'CabinNumber', 'SibSp', 'Parch', 'NameTitle'], axis=1) "
   ]
  },
  {
   "cell_type": "code",
   "execution_count": null,
   "id": "676e719a",
   "metadata": {},
   "outputs": [],
   "source": [
    "training_data.dropna(inplace=True)\n",
    "test_data.dropna(inplace=True)"
   ]
  },
  {
   "cell_type": "code",
   "execution_count": null,
   "id": "7a83b614",
   "metadata": {},
   "outputs": [],
   "source": [
    "training_data"
   ]
  },
  {
   "cell_type": "markdown",
   "id": "fed914ec",
   "metadata": {},
   "source": [
    "#### We decide to keep the following features:\n",
    "\n",
    "* <b>PClass</b> - the class of the ticket, as we all know this had a large say in deciding who got on the escape boats\n",
    "* <b>Age</b> - An older person is weaker than a younger one on average.\n",
    "* <b>Fare</b> - Someone who paid a lot more money would be in a far different position than someone who did not\n",
    "* <b>Embarked</b> - Depending on the port they got on, (might play a role, not sure.. might get rid of this in other attempt)\n",
    "* <b>Deck</b> - The deck of the boat the person was staying is important when a boat is floating\n",
    "* <b>FamilySize</b> - If an individual had a family it is possible that they gave up their spot on an escape boat or attempted to rescue them\n",
    "* <b>FarePerPerson</b> - The amount paid per person (based on family size) could indicate how they were treated"
   ]
  },
  {
   "cell_type": "code",
   "execution_count": null,
   "id": "390666d7",
   "metadata": {},
   "outputs": [],
   "source": [
    "features = training_data.columns[3:]\n",
    "train_true = training_data.columns[2:3]\n",
    "\n",
    "X = training_data[features]\n",
    "y = training_data[train_true]\n",
    "y = np.asarray(y).reshape(-1)\n",
    "\n",
    "features"
   ]
  },
  {
   "cell_type": "markdown",
   "id": "02c13d41",
   "metadata": {},
   "source": [
    "## Classifier Decision\n",
    "\n",
    "\n",
    "Using information seen in https://www.kaggle.com/mosleylm/titanic-data-set-exploration/execution#II.-Format-Data we decide that we will test many different classifiers and then select the highest performing one based on the F1 score.\n",
    "We will use a stratified 10-fold cross validation in order to train and test on all of our data. <br>\n",
    "We test the following classifiers:\n",
    "\n",
    "* <b>Gradient Boosting</b>\n",
    "* <b>Random Forest</b>\n",
    "* <b>KNeighbors</b>\n",
    "* <b>SVC</b>\n",
    "* <b>Decision Tree</b>\n",
    "* <b>Ada Boost</b>\n",
    "* <b>GaussianNB</b>\n",
    "* <b>Logistic Regression</b>"
   ]
  },
  {
   "cell_type": "code",
   "execution_count": null,
   "id": "ddf376ca",
   "metadata": {},
   "outputs": [],
   "source": [
    "from sklearn.ensemble import RandomForestClassifier, AdaBoostClassifier, GradientBoostingClassifier\n",
    "from sklearn.svm import SVC\n",
    "from sklearn.neighbors import KNeighborsClassifier\n",
    "from sklearn.tree import DecisionTreeClassifier\n",
    "from sklearn.linear_model import LogisticRegression\n",
    "from sklearn.model_selection import StratifiedShuffleSplit\n",
    "from sklearn.naive_bayes import GaussianNB\n",
    "from sklearn.metrics import f1_score, accuracy_score, log_loss"
   ]
  },
  {
   "cell_type": "code",
   "execution_count": null,
   "id": "1f22c233",
   "metadata": {},
   "outputs": [],
   "source": [
    "classes = [RandomForestClassifier(),GradientBoostingClassifier()]\n",
    "\n",
    "splits = StratifiedShuffleSplit(n_splits=10, test_size=0.1, random_state=0)\n",
    "\n",
    "\n",
    "log_cs = ['Classifier', 'F1', 'Acc']\n",
    "log = pd.DataFrame(columns=log_cs)\n",
    "f1s = {}\n",
    "acc = {}\n",
    "\n",
    "X = X.values\n",
    "\n",
    "# intialize f1 and accuracy values\n",
    "for cls in classes:\n",
    "    clf = cls.__class__.__name__\n",
    "    f1s[clf] = 0\n",
    "    acc[clf] = 0\n",
    "\n",
    "for trn_idx, tst_idx in splits.split(X, y):\n",
    "    X_train, X_test = X[trn_idx], X[tst_idx]\n",
    "    Y_train, Y_test = y[trn_idx], y[tst_idx]\n",
    "    \n",
    "    for cls in classes:\n",
    "        name = cls.__class__.__name__\n",
    "        cls.fit(X_train, Y_train)\n",
    "        train_preds = cls.predict(X_test)\n",
    "        \n",
    "        f1 = f1_score(Y_test, train_preds)\n",
    "        acc_sc = accuracy_score(Y_test, train_preds)\n",
    "\n",
    "        # add splits f1, acc\n",
    "        f1s[name] += f1\n",
    "        acc[name] += acc_sc\n",
    "\n",
    "for cls in f1s:\n",
    "    f1s[cls] = f1s[cls] / 10.0 # average over ten runs\n",
    "    acc[cls] = acc[cls] / 10.0 # average over ten runs\n",
    "    log_ = pd.DataFrame([[cls, f1s[cls], acc[cls]]], columns=log_cs)\n",
    "    log = log.append(log_)\n",
    "\n",
    "log"
   ]
  },
  {
   "cell_type": "code",
   "execution_count": null,
   "id": "9f80e23e",
   "metadata": {},
   "outputs": [],
   "source": []
  }
 ],
 "metadata": {
  "kernelspec": {
   "display_name": "Python 3",
   "language": "python",
   "name": "python3"
  },
  "language_info": {
   "codemirror_mode": {
    "name": "ipython",
    "version": 3
   },
   "file_extension": ".py",
   "mimetype": "text/x-python",
   "name": "python",
   "nbconvert_exporter": "python",
   "pygments_lexer": "ipython3",
   "version": "3.8.3"
  }
 },
 "nbformat": 4,
 "nbformat_minor": 5
}
