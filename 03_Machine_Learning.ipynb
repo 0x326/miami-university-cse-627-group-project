{
 "cells": [
  {
   "cell_type": "markdown",
   "id": "c71bd155-85c4-400a-a336-ae626f465ad4",
   "metadata": {},
   "source": [
    "# Machine Learning"
   ]
  },
  {
   "cell_type": "markdown",
   "id": "3b7a4a15-7ce2-4402-94d6-7720f0a03474",
   "metadata": {},
   "source": [
    "## Configuration"
   ]
  },
  {
   "cell_type": "code",
   "execution_count": null,
   "id": "b9cab258-73e8-4e2b-8ee0-7d2aa204990b",
   "metadata": {},
   "outputs": [],
   "source": [
    "# Jupyter config\n",
    "%load_ext rpy2.ipython\n",
    "%matplotlib inline\n",
    "%config InlineBackend.figure_format = 'svg'  # Or 'retina'"
   ]
  },
  {
   "cell_type": "code",
   "execution_count": null,
   "id": "4e8bf664-71c7-43e7-a6d6-6bf724b80c49",
   "metadata": {},
   "outputs": [],
   "source": [
    "# Python imports\n",
    "import numpy as np\n",
    "import pandas as pd\n",
    "import matplotlib.pyplot as plt\n",
    "from scipy.stats import *\n",
    "from sklearn.preprocessing import *\n",
    "from sklearn.mixture import *\n",
    "\n",
    "#plt.style.use('seaborn-whitegrid')  # Set the aesthetic style of the plots"
   ]
  },
  {
   "cell_type": "markdown",
   "id": "9303aa7b-749d-4f79-877f-f522d417c0cb",
   "metadata": {},
   "source": [
    "## Attempt 1: Linear regression"
   ]
  },
  {
   "cell_type": "code",
   "execution_count": null,
   "id": "af45f9e1-99e2-4510-ac65-db69182d43bd",
   "metadata": {},
   "outputs": [],
   "source": [
    "LabelEncoder()"
   ]
  }
 ],
 "metadata": {
  "kernelspec": {
   "display_name": "Python 3",
   "language": "python",
   "name": "python3"
  },
  "language_info": {
   "codemirror_mode": {
    "name": "ipython",
    "version": 3
   },
   "file_extension": ".py",
   "mimetype": "text/x-python",
   "name": "python",
   "nbconvert_exporter": "python",
   "pygments_lexer": "ipython3",
   "version": "3.8.8"
  }
 },
 "nbformat": 4,
 "nbformat_minor": 5
}
